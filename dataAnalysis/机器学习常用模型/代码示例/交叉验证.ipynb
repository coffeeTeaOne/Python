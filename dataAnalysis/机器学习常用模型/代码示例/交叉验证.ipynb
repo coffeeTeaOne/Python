{
 "cells": [
  {
   "cell_type": "code",
   "execution_count": 21,
   "metadata": {},
   "outputs": [],
   "source": [
    "from sklearn.datasets import load_iris\n",
    "from sklearn.linear_model import LogisticRegression\n",
    "from sklearn.neighbors import KNeighborsClassifier"
   ]
  },
  {
   "cell_type": "code",
   "execution_count": 2,
   "metadata": {},
   "outputs": [],
   "source": [
    "data = load_iris().data\n",
    "target = load_iris().target"
   ]
  },
  {
   "cell_type": "code",
   "execution_count": 3,
   "metadata": {},
   "outputs": [
    {
     "data": {
      "text/plain": [
       "(150, 4)"
      ]
     },
     "execution_count": 3,
     "metadata": {},
     "output_type": "execute_result"
    }
   ],
   "source": [
    "data.shape"
   ]
  },
  {
   "cell_type": "code",
   "execution_count": 6,
   "metadata": {},
   "outputs": [
    {
     "name": "stdout",
     "output_type": "stream",
     "text": [
      "Logistic测试集评分0.95\n",
      "Logistic训练集评分0.9461538461538461\n"
     ]
    }
   ],
   "source": [
    "X_train1 = data[:130]\n",
    "y_train1 = target[:130]\n",
    "X_test1 = data[130:]\n",
    "y_test1 = target[130:]\n",
    "logistic = LogisticRegression()\n",
    "logistic.fit(X_train1,y_train1)\n",
    "print(\"Logistic测试集评分{}\".format(logistic.score(X_test1,y_test1)))\n",
    "print(\"Logistic训练集评分{}\".format(logistic.score(X_train1,y_train1)))"
   ]
  },
  {
   "cell_type": "code",
   "execution_count": 9,
   "metadata": {},
   "outputs": [
    {
     "name": "stdout",
     "output_type": "stream",
     "text": [
      "Logistic测试集评分1.0\n",
      "Logistic训练集评分0.9571428571428572\n"
     ]
    }
   ],
   "source": [
    "n_train = 140\n",
    "X_train1 = data[:n_train]\n",
    "y_train1 = target[:n_train]\n",
    "X_test1 = data[n_train:]\n",
    "y_test1 = target[n_train:]\n",
    "logistic = LogisticRegression()\n",
    "logistic.fit(X_train1,y_train1)\n",
    "print(\"Logistic测试集评分{}\".format(logistic.score(X_test1,y_test1)))\n",
    "print(\"Logistic训练集评分{}\".format(logistic.score(X_train1,y_train1)))"
   ]
  },
  {
   "cell_type": "code",
   "execution_count": 23,
   "metadata": {},
   "outputs": [
    {
     "name": "stdout",
     "output_type": "stream",
     "text": [
      "Logistic算法 mean:0.8799999999999999,std:0.14847371634213394\n",
      "KNN算法 mean:0.9333333333333333,std:0.08432740427115676\n"
     ]
    }
   ],
   "source": [
    "# 使用交叉验证来解决算法在不同测试集上的评分不同的问题\n",
    "from sklearn.model_selection import cross_val_score\n",
    "\n",
    "# 用于分裂样本集的一个类\n",
    "from sklearn.model_selection import KFold\n",
    "\n",
    "# 将样本集分裂成10等份\n",
    "kflod = KFold(n_splits=10)\n",
    "logistic = LogisticRegression()\n",
    "results = cross_val_score(logistic,data,target,cv=kflod)\n",
    "print(\"Logistic算法 mean:{},std:{}\".format(results.mean(),results.std()))\n",
    "\n",
    "knn = KNeighborsClassifier()\n",
    "results = cross_val_score(knn,data,target,cv=kflod)\n",
    "print(\"KNN算法 mean:{},std:{}\".format(results.mean(),results.std()))"
   ]
  }
 ],
 "metadata": {
  "kernelspec": {
   "display_name": "Python 3",
   "language": "python",
   "name": "python3"
  },
  "language_info": {
   "codemirror_mode": {
    "name": "ipython",
    "version": 3
   },
   "file_extension": ".py",
   "mimetype": "text/x-python",
   "name": "python",
   "nbconvert_exporter": "python",
   "pygments_lexer": "ipython3",
   "version": "3.6.2"
  }
 },
 "nbformat": 4,
 "nbformat_minor": 2
}
