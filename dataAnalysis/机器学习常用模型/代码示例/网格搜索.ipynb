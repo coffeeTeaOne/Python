{
 "cells": [
  {
   "cell_type": "code",
   "execution_count": 23,
   "metadata": {},
   "outputs": [],
   "source": [
    "import numpy as np\n",
    "from sklearn.model_selection import GridSearchCV\n",
    "from sklearn.decomposition import PCA\n",
    "from sklearn.datasets import load_iris\n",
    "from sklearn.svm import SVC\n",
    "from sklearn.linear_model import LogisticRegression\n",
    "from sklearn.model_selection import train_test_split\n",
    "\n",
    "import matplotlib.pyplot as plt\n",
    "%matplotlib inline"
   ]
  },
  {
   "cell_type": "code",
   "execution_count": 3,
   "metadata": {},
   "outputs": [],
   "source": [
    "data = load_iris().data\n",
    "target = load_iris().target"
   ]
  },
  {
   "cell_type": "code",
   "execution_count": 7,
   "metadata": {},
   "outputs": [
    {
     "data": {
      "text/plain": [
       "<matplotlib.collections.PathCollection at 0x1372c570>"
      ]
     },
     "execution_count": 7,
     "metadata": {},
     "output_type": "execute_result"
    },
    {
     "data": {
      "image/png": "[encoded data removed]",
      "text/plain": [
       "<matplotlib.figure.Figure at 0x13a7fb70>"
      ]
     },
     "metadata": {},
     "output_type": "display_data"
    }
   ],
   "source": [
    "pca = PCA(n_components=2)\n",
    "train = pca.fit_transform(data)\n",
    "plt.scatter(train[:,0],train[:,1],c=target)"
   ]
  },
  {
   "cell_type": "code",
   "execution_count": 18,
   "metadata": {
    "collapsed": true
   },
   "outputs": [
    {
     "data": {
      "text/plain": [
       "GridSearchCV(cv=None, error_score='raise',\n",
       "       estimator=SVC(C=1.0, cache_size=200, class_weight=None, coef0=0.0,\n",
       "  decision_function_shape='ovr', degree=3, gamma='auto', kernel='rbf',\n",
       "  max_iter=-1, probability=False, random_state=None, shrinking=True,\n",
       "  tol=0.001, verbose=False),\n",
       "       fit_params=None, iid=True, n_jobs=1,\n",
       "       param_grid={'kernel': ['linear', 'rbf'], 'C': [0.001, 0.01, 0.1, 1, 10, 100], 'gamma': array([0, 2, 4, 6, 8])},\n",
       "       pre_dispatch='2*n_jobs', refit=True, return_train_score='warn',\n",
       "       scoring=None, verbose=0)"
      ]
     },
     "execution_count": 18,
     "metadata": {},
     "output_type": "execute_result"
    }
   ],
   "source": [
    "X_train,X_test,y_train,y_test = train_test_split(train,target,test_size=0.2)\n",
    "\n",
    "# 确定要使用的算法模型对象\n",
    "svc = SVC()\n",
    "# 确定要调整的参数集合\n",
    "prama_dic = {\n",
    "    'kernel':['linear','rbf'],\n",
    "    'C':[0.001,0.01,0.1,1,10,100],\n",
    "    'gamma':np.arange(0,10,step=2)\n",
    "}\n",
    "\n",
    "# 创建一个GridSearchCV对象\n",
    "grid_cv = GridSearchCV(estimator=svc,param_grid=prama_dic)\n",
    "# 使用GridSearchCV对象对数据进行训练\n",
    "grid_cv.fit(X_train,y_train)\n",
    "\n",
    "# print(\"SVC在训练集上的评分是{}\".format(svc.score(X_train,y_train)))\n",
    "# print(\"SVC在测试集上的评分是{}\".format(svc.score(X_test,y_test)))"
   ]
  },
  {
   "cell_type": "code",
   "execution_count": 19,
   "metadata": {},
   "outputs": [
    {
     "data": {
      "text/plain": [
       "{'C': 1, 'gamma': 0, 'kernel': 'linear'}"
      ]
     },
     "execution_count": 19,
     "metadata": {},
     "output_type": "execute_result"
    }
   ],
   "source": [
    "# 获取最优参数集\n",
    "grid_cv.best_params_"
   ]
  },
  {
   "cell_type": "code",
   "execution_count": 21,
   "metadata": {},
   "outputs": [],
   "source": [
    "# 获取最优参数配置的模型\n",
    "best_svc = grid_cv.best_estimator_"
   ]
  },
  {
   "cell_type": "code",
   "execution_count": 22,
   "metadata": {},
   "outputs": [
    {
     "name": "stdout",
     "output_type": "stream",
     "text": [
      "SVC在训练集上的评分是0.9666666666666667\n",
      "SVC在测试集上的评分是0.9\n"
     ]
    }
   ],
   "source": [
    "# 直接使用最优的模型进行预测\n",
    "print(\"SVC在训练集上的评分是{}\".format(best_svc.score(X_train,y_train)))\n",
    "print(\"SVC在测试集上的评分是{}\".format(best_svc.score(X_test,y_test)))"
   ]
  },
  {
   "cell_type": "code",
   "execution_count": 26,
   "metadata": {},
   "outputs": [
    {
     "name": "stdout",
     "output_type": "stream",
     "text": [
      "Logistic最优参数集为{'C': 10, 'penalty': 'l1'}\n",
      "Logistic在训练集上的评分是0.9666666666666667\n",
      "Logistic在测试集上的评分是0.9666666666666667\n"
     ]
    }
   ],
   "source": [
    "logistic = LogisticRegression()\n",
    "param_dic = {\n",
    "    'C':[0.001,0.01,0.1,1,10,100],\n",
    "    'penalty':['l1','l2']\n",
    "}\n",
    "grid_cv = GridSearchCV(logistic,param_dic)\n",
    "grid_cv.fit(train,target)\n",
    "best_logistic = grid_cv.best_estimator_\n",
    "\n",
    "print(\"Logistic最优参数集为{}\".format(grid_cv.best_params_))\n",
    "print(\"Logistic在训练集上的评分是{}\".format(best_logistic.score(X_train,y_train)))\n",
    "print(\"Logistic在测试集上的评分是{}\".format(best_logistic.score(X_test,y_test)))"
   ]
  },
  {
   "cell_type": "code",
   "execution_count": 27,
   "metadata": {
    "collapsed": true
   },
   "outputs": [
    {
     "data": {
      "text/plain": [
       "array([[ 2.3875644 ,  0.46251925],\n",
       "       [-2.56239095,  0.37468456],\n",
       "       [ 2.15873837, -0.21832553],\n",
       "       [ 0.71400821,  0.15037915],\n",
       "       [ 0.51938325, -1.19135169],\n",
       "       [ 1.29066965, -0.11642525],\n",
       "       [ 0.37523823, -0.29162202],\n",
       "       [-2.58734619,  0.52047364],\n",
       "       [-2.54323491,  0.44003175],\n",
       "       [ 3.07652162,  0.68576444],\n",
       "       [ 0.93241075,  0.31919809],\n",
       "       [ 2.10765373,  0.37148225],\n",
       "       [-0.5110862 , -1.26249195],\n",
       "       [ 1.25762518, -0.179137  ],\n",
       "       [-2.72859298,  0.33392456],\n",
       "       [-0.75146714, -1.00110751],\n",
       "       [ 2.91813423,  0.78038063],\n",
       "       [-3.22520045, -0.50327991],\n",
       "       [-2.8403213 , -0.22057634],\n",
       "       [ 3.39687992,  0.54716805],\n",
       "       [ 0.16451343, -0.67966147],\n",
       "       [-2.53757337,  0.51036755],\n",
       "       [ 0.22887905, -0.40225762],\n",
       "       [ 0.0432464 , -0.58148945],\n",
       "       [ 0.35553304, -0.50321849],\n",
       "       [-0.07034289, -0.70253793],\n",
       "       [ 1.09522371,  0.28389121],\n",
       "       [ 2.61648461,  0.34193529],\n",
       "       [-2.3105317 ,  0.39786782],\n",
       "       [ 3.49926548,  0.45677347]])"
      ]
     },
     "execution_count": 27,
     "metadata": {},
     "output_type": "execute_result"
    }
   ],
   "source": [
    "# 绘制分类边界\n",
    "# 数据集 data  训练集 train"
   ]
  },
  {
   "cell_type": "code",
   "execution_count": 29,
   "metadata": {},
   "outputs": [],
   "source": [
    "X_train,X_test,y_train,y_test = train_test_split(data,target,test_size=0.2)"
   ]
  },
  {
   "cell_type": "code",
   "execution_count": 30,
   "metadata": {
    "collapsed": true
   },
   "outputs": [
    {
     "data": {
      "text/plain": [
       "array([[5.1, 3.7, 1.5, 0.4],\n",
       "       [6.4, 3.1, 5.5, 1.8],\n",
       "       [5.7, 3. , 4.2, 1.2],\n",
       "       [5.4, 3. , 4.5, 1.5],\n",
       "       [4.7, 3.2, 1.6, 0.2],\n",
       "       [7.4, 2.8, 6.1, 1.9],\n",
       "       [7.7, 3. , 6.1, 2.3],\n",
       "       [5.1, 3.5, 1.4, 0.2],\n",
       "       [6.5, 3. , 5.8, 2.2],\n",
       "       [6.1, 3. , 4.9, 1.8],\n",
       "       [4.5, 2.3, 1.3, 0.3],\n",
       "       [6.2, 3.4, 5.4, 2.3],\n",
       "       [7.2, 3. , 5.8, 1.6],\n",
       "       [4.8, 3. , 1.4, 0.1],\n",
       "       [4.7, 3.2, 1.3, 0.2],\n",
       "       [5.4, 3.9, 1.3, 0.4],\n",
       "       [5.5, 4.2, 1.4, 0.2],\n",
       "       [4.9, 3. , 1.4, 0.2],\n",
       "       [7.6, 3. , 6.6, 2.1],\n",
       "       [6.6, 3. , 4.4, 1.4],\n",
       "       [5.6, 2.9, 3.6, 1.3],\n",
       "       [4.9, 3.1, 1.5, 0.1],\n",
       "       [6.7, 3.1, 4.7, 1.5],\n",
       "       [5.2, 3.5, 1.5, 0.2],\n",
       "       [4.8, 3.1, 1.6, 0.2],\n",
       "       [6.3, 2.9, 5.6, 1.8],\n",
       "       [5.6, 3. , 4.1, 1.3],\n",
       "       [5.1, 3.5, 1.4, 0.3],\n",
       "       [5. , 3.3, 1.4, 0.2],\n",
       "       [5.1, 3.8, 1.9, 0.4],\n",
       "       [5.7, 3.8, 1.7, 0.3],\n",
       "       [5. , 2.3, 3.3, 1. ],\n",
       "       [6.4, 3.2, 4.5, 1.5],\n",
       "       [5.1, 3.8, 1.5, 0.3],\n",
       "       [5.6, 3. , 4.5, 1.5],\n",
       "       [6.1, 2.9, 4.7, 1.4],\n",
       "       [5. , 3. , 1.6, 0.2],\n",
       "       [6.2, 2.2, 4.5, 1.5],\n",
       "       [7.7, 3.8, 6.7, 2.2],\n",
       "       [5.4, 3.4, 1.7, 0.2],\n",
       "       [6.1, 3. , 4.6, 1.4],\n",
       "       [7.3, 2.9, 6.3, 1.8],\n",
       "       [6.4, 2.8, 5.6, 2.1],\n",
       "       [7.2, 3.6, 6.1, 2.5],\n",
       "       [6.8, 3.2, 5.9, 2.3],\n",
       "       [6.7, 3.3, 5.7, 2.1],\n",
       "       [6. , 2.7, 5.1, 1.6],\n",
       "       [5.8, 2.7, 3.9, 1.2],\n",
       "       [6. , 2.9, 4.5, 1.5],\n",
       "       [5.5, 3.5, 1.3, 0.2],\n",
       "       [6.7, 3.3, 5.7, 2.5],\n",
       "       [6.9, 3.1, 5.4, 2.1],\n",
       "       [5.6, 2.5, 3.9, 1.1],\n",
       "       [6.1, 2.6, 5.6, 1.4],\n",
       "       [7.9, 3.8, 6.4, 2. ],\n",
       "       [5.1, 2.5, 3. , 1.1],\n",
       "       [5.2, 3.4, 1.4, 0.2],\n",
       "       [6.3, 2.3, 4.4, 1.3],\n",
       "       [5.5, 2.4, 3.8, 1.1],\n",
       "       [4.9, 2.4, 3.3, 1. ],\n",
       "       [4.3, 3. , 1.1, 0.1],\n",
       "       [5.5, 2.3, 4. , 1.3],\n",
       "       [6.7, 3. , 5. , 1.7],\n",
       "       [5.8, 2.7, 5.1, 1.9],\n",
       "       [6. , 2.2, 5. , 1.5],\n",
       "       [6.9, 3.1, 4.9, 1.5],\n",
       "       [5.7, 2.8, 4.1, 1.3],\n",
       "       [5.3, 3.7, 1.5, 0.2],\n",
       "       [7.7, 2.8, 6.7, 2. ],\n",
       "       [6.9, 3.1, 5.1, 2.3],\n",
       "       [4.6, 3.1, 1.5, 0.2],\n",
       "       [6.3, 3.3, 4.7, 1.6],\n",
       "       [5. , 3.5, 1.3, 0.3],\n",
       "       [6.3, 3.3, 6. , 2.5],\n",
       "       [5.2, 2.7, 3.9, 1.4],\n",
       "       [5.4, 3.4, 1.5, 0.4],\n",
       "       [5.9, 3. , 5.1, 1.8],\n",
       "       [7.7, 2.6, 6.9, 2.3],\n",
       "       [4.9, 3.1, 1.5, 0.1],\n",
       "       [5. , 3.4, 1.6, 0.4],\n",
       "       [6.9, 3.2, 5.7, 2.3],\n",
       "       [6. , 2.2, 4. , 1. ],\n",
       "       [6.7, 2.5, 5.8, 1.8],\n",
       "       [6.8, 2.8, 4.8, 1.4],\n",
       "       [6.6, 2.9, 4.6, 1.3],\n",
       "       [5.6, 2.7, 4.2, 1.3],\n",
       "       [5.4, 3.9, 1.7, 0.4],\n",
       "       [5.5, 2.5, 4. , 1.3],\n",
       "       [6.4, 2.8, 5.6, 2.2],\n",
       "       [4.6, 3.2, 1.4, 0.2],\n",
       "       [5.6, 2.8, 4.9, 2. ],\n",
       "       [6.3, 2.7, 4.9, 1.8],\n",
       "       [5.9, 3.2, 4.8, 1.8],\n",
       "       [6.2, 2.8, 4.8, 1.8],\n",
       "       [6.4, 2.7, 5.3, 1.9],\n",
       "       [6.5, 2.8, 4.6, 1.5],\n",
       "       [7. , 3.2, 4.7, 1.4],\n",
       "       [6.3, 3.4, 5.6, 2.4],\n",
       "       [5.1, 3.4, 1.5, 0.2],\n",
       "       [6.2, 2.9, 4.3, 1.3],\n",
       "       [6.5, 3. , 5.5, 1.8],\n",
       "       [5.7, 2.8, 4.5, 1.3],\n",
       "       [7.1, 3. , 5.9, 2.1],\n",
       "       [6.5, 3. , 5.2, 2. ],\n",
       "       [5.2, 4.1, 1.5, 0.1],\n",
       "       [7.2, 3.2, 6. , 1.8],\n",
       "       [6.3, 2.8, 5.1, 1.5],\n",
       "       [4.8, 3.4, 1.6, 0.2],\n",
       "       [4.6, 3.6, 1. , 0.2],\n",
       "       [6.7, 3. , 5.2, 2.3],\n",
       "       [5.8, 4. , 1.2, 0.2],\n",
       "       [6.7, 3.1, 5.6, 2.4],\n",
       "       [6.4, 2.9, 4.3, 1.3],\n",
       "       [5.9, 3. , 4.2, 1.5],\n",
       "       [5.7, 2.5, 5. , 2. ],\n",
       "       [5.8, 2.8, 5.1, 2.4],\n",
       "       [6.3, 2.5, 5. , 1.9],\n",
       "       [6.3, 2.5, 4.9, 1.5],\n",
       "       [6.4, 3.2, 5.3, 2.3],\n",
       "       [5. , 3.2, 1.2, 0.2]])"
      ]
     },
     "execution_count": 30,
     "metadata": {},
     "output_type": "execute_result"
    }
   ],
   "source": [
    "X_train"
   ]
  },
  {
   "cell_type": "code",
   "execution_count": 36,
   "metadata": {},
   "outputs": [
    {
     "name": "stdout",
     "output_type": "stream",
     "text": [
      "Logistic最优参数集为{'C': 10, 'penalty': 'l1'}\n",
      "Logistic在训练集上的评分是0.9666666666666667\n"
     ]
    }
   ],
   "source": [
    "pca = PCA(n_components=2)\n",
    "pca_X_train = pca.fit_transform(X_train)\n",
    "\n",
    "logistic = LogisticRegression()\n",
    "param_dic = {\n",
    "    'C':[0.001,0.01,0.1,1,10,100],\n",
    "    'penalty':['l1','l2']\n",
    "}\n",
    "grid_cv = GridSearchCV(logistic,param_dic)\n",
    "grid_cv.fit(pca_X_train,y_train)\n",
    "best_logistic = grid_cv.best_estimator_\n",
    "\n",
    "print(\"Logistic最优参数集为{}\".format(grid_cv.best_params_))\n",
    "print(\"Logistic在训练集上的评分是{}\".format(best_logistic.score(pca_X_train,y_train)))\n",
    "# print(\"Logistic在测试集上的评分是{}\".format(best_logistic.score(X_test,y_test)))"
   ]
  },
  {
   "cell_type": "code",
   "execution_count": 39,
   "metadata": {},
   "outputs": [
    {
     "data": {
      "text/plain": [
       "array([0, 1, 0, 0, 0, 0, 0, 1, 1, 0, 1, 2, 1, 1, 0, 1, 0, 0, 0, 1, 0, 1,\n",
       "       1, 0, 1, 1, 2, 1, 2, 0])"
      ]
     },
     "execution_count": 39,
     "metadata": {},
     "output_type": "execute_result"
    }
   ],
   "source": [
    "# 如果算法模型训练数据是降维处理过的，那么对于新的预测数据也要进行相同的降维处理\n",
    "pca_X_test = pca.transform(X_test)\n",
    "best_logistic.predict(pca_X_test)"
   ]
  }
 ],
 "metadata": {
  "kernelspec": {
   "display_name": "Python 3",
   "language": "python",
   "name": "python3"
  },
  "language_info": {
   "codemirror_mode": {
    "name": "ipython",
    "version": 3
   },
   "file_extension": ".py",
   "mimetype": "text/x-python",
   "name": "python",
   "nbconvert_exporter": "python",
   "pygments_lexer": "ipython3",
   "version": "3.6.5"
  }
 },
 "nbformat": 4,
 "nbformat_minor": 2
}
